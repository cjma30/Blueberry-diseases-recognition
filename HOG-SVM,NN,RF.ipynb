{
 "cells": [
  {
   "cell_type": "code",
   "execution_count": null,
   "metadata": {
    "scrolled": false
   },
   "outputs": [],
   "source": [
    "import cv2\n",
    "import os\n",
    "import numpy as np\n",
    "\n",
    "\n",
    "from skimage.feature import hog\n",
    "from skimage import data, exposure\n",
    "import matplotlib.image as mpimg\n",
    "\n",
    "dirpath = \"C:/Users/Carlos/Documents/esan/2018-1/Inteligencia Artificial Avanzada/Trabajo Final/iaa/Dataset_Arandanos/Hojas enfermas/\"\n",
    "Vectores_carct = [] #nuevo\n",
    "carpeta = (os.listdir(dirpath))\n",
    "n = 3\n",
    "\n",
    "ext = \".jpg\"\n",
    "\n",
    "for file in carpeta: \n",
    "    image = mpimg.imread(dirpath + file) # imagenes en color\n",
    "    image_EG = cv2.cvtColor(image,cv2.COLOR_BGR2GRAY) #Se pasa a blanco y negro\n",
    "    image_EG2 = cv2.medianBlur(image_EG, n) # Se realizar un  filtro de ruido usando la media para que todas las imagenes entren sin ruido\n",
    "    image_EG3 = cv2.addWeighted(image_EG, 1.5, image_EG2, -0.5, 0, image_EG) # realzamos detalles\n",
    "    image_EG4 = cv2.resize(image_EG3, (200, 200))# se aplica un rescalado a todas la imagenes para que entren con un tam\n",
    "    nombre = file[:file.find(ext)]\n",
    "    fd, hog_image = hog(image_EG4, orientations=8, pixels_per_cell=(16, 16),\n",
    "                    cells_per_block=(1, 1), visualise=True)\n",
    "    \n",
    "    Vectores_carct.append(fd)\n",
    "\n",
    "len(Vectores_carct)"
   ]
  },
  {
   "cell_type": "code",
   "execution_count": null,
   "metadata": {
    "scrolled": true
   },
   "outputs": [],
   "source": [
    "import cv2\n",
    "import os\n",
    "import numpy as np\n",
    "\n",
    "\n",
    "from skimage.feature import hog\n",
    "from skimage import data, exposure\n",
    "import matplotlib.image as mpimg\n",
    "\n",
    "dirpath = \"C:/Users/Carlos/Documents/esan/2018-1/Inteligencia Artificial Avanzada/Trabajo Final/iaa/Dataset_Arandanos/Hojas sanas/\"\n",
    "Vectores_carct2 = [] #nuevo\n",
    "carpeta = (os.listdir(dirpath))\n",
    "n = 3\n",
    "\n",
    "ext = \".jpg\"\n",
    "\n",
    "for file in carpeta: \n",
    "    image = mpimg.imread(dirpath + file) # imagenes en color\n",
    "    image_EG = cv2.cvtColor(image,cv2.COLOR_BGR2GRAY) #Se pasa a blanco y negro\n",
    "    image_EG2 = cv2.medianBlur(image_EG, n) # Se realizar un  filtro de ruido usando la media para que todas las imagenes entren sin ruido\n",
    "    image_EG3 = cv2.addWeighted(image_EG, 1.5, image_EG2, -0.5, 0, image_EG) # realzamos detalles\n",
    "    image_EG4 = cv2.resize(image_EG3, (200, 200))# se aplica un rescalado a todas la imagenes para que entren con un tam\n",
    "    nombre = file[:file.find(ext)]\n",
    "    fd, hog_image = hog(image_EG4, orientations=8, pixels_per_cell=(16, 16),\n",
    "                    cells_per_block=(1, 1), visualise=True)\n",
    "    \n",
    "    Vectores_carct2.append(fd)\n",
    "\n",
    "len(Vectores_carct2)"
   ]
  },
  {
   "cell_type": "code",
   "execution_count": null,
   "metadata": {},
   "outputs": [],
   "source": [
    "Vectores_carct.extend(Vectores_carct2)"
   ]
  },
  {
   "cell_type": "code",
   "execution_count": null,
   "metadata": {
    "scrolled": true
   },
   "outputs": [],
   "source": [
    "len(Vectores_carct)"
   ]
  },
  {
   "cell_type": "code",
   "execution_count": null,
   "metadata": {},
   "outputs": [],
   "source": [
    "X = np.array(Vectores_carct)\n",
    "\n",
    "valores = np.array([[1],[0]])\n",
    "Y = np.repeat(valores, [344,261])"
   ]
  },
  {
   "cell_type": "code",
   "execution_count": null,
   "metadata": {},
   "outputs": [],
   "source": [
    "from sklearn.model_selection import train_test_split\n",
    "X_train, X_test, y_train, y_test = train_test_split(X, Y, test_size=0.20, random_state=42)"
   ]
  },
  {
   "cell_type": "code",
   "execution_count": null,
   "metadata": {},
   "outputs": [],
   "source": [
    "# Import `StandardScaler` from `sklearn.preprocessing`\n",
    "from sklearn.preprocessing import StandardScaler\n",
    "\n",
    "# Define the scaler \n",
    "scaler = StandardScaler().fit(X_train)\n",
    "\n",
    "# Scale the train set\n",
    "X_train = scaler.transform(X_train)\n",
    "\n",
    "# Scale the test set\n",
    "X_test = scaler.transform(X_test)"
   ]
  },
  {
   "cell_type": "markdown",
   "metadata": {},
   "source": [
    "# SVM\n"
   ]
  },
  {
   "cell_type": "code",
   "execution_count": null,
   "metadata": {},
   "outputs": [],
   "source": [
    "from sklearn.model_selection import GridSearchCV\n",
    "from sklearn.svm import SVC\n",
    "param_grid = {'C': [1e3, 5e3, 1e4, 5e4, 1e5],\n",
    "              'gamma': [0.0001, 0.0005, 0.001, 0.005, 0.01, 0.1], }\n",
    "clf = GridSearchCV(SVC(kernel='rbf', class_weight='balanced'), param_grid)\n",
    "clf = clf.fit(X_train, y_train)"
   ]
  },
  {
   "cell_type": "code",
   "execution_count": null,
   "metadata": {},
   "outputs": [],
   "source": [
    "y_pred=clf.predict(X_test)"
   ]
  },
  {
   "cell_type": "code",
   "execution_count": null,
   "metadata": {},
   "outputs": [],
   "source": [
    "from sklearn.metrics import accuracy_score\n",
    "accuracy_score(y_test,y_pred)"
   ]
  },
  {
   "cell_type": "markdown",
   "metadata": {},
   "source": [
    "# NEURAL NETWORKS\n"
   ]
  },
  {
   "cell_type": "code",
   "execution_count": null,
   "metadata": {
    "scrolled": true
   },
   "outputs": [],
   "source": [
    "from sklearn.neural_network import MLPClassifier\n",
    "clf = MLPClassifier(solver='lbfgs', alpha=1e-5, hidden_layer_sizes=(30,9,4), random_state=42)\n",
    "clf.fit(X_train, y_train) "
   ]
  },
  {
   "cell_type": "code",
   "execution_count": null,
   "metadata": {},
   "outputs": [],
   "source": [
    "y_pred=clf.predict(X_test)"
   ]
  },
  {
   "cell_type": "code",
   "execution_count": null,
   "metadata": {
    "scrolled": true
   },
   "outputs": [],
   "source": [
    "from sklearn.metrics import accuracy_score\n",
    "accuracy_score(y_test,y_pred)"
   ]
  },
  {
   "cell_type": "markdown",
   "metadata": {},
   "source": [
    "# RANDOM FOREST\n"
   ]
  },
  {
   "cell_type": "code",
   "execution_count": null,
   "metadata": {},
   "outputs": [],
   "source": [
    "from sklearn.ensemble import RandomForestRegressor\n",
    "# Crear una instancia del modelo con 1000 árboles de decisión\n",
    "rf = RandomForestRegressor(n_estimators = 1000, random_state = 42)\n",
    "# Entrenar al modelo en los datos de entrenamiento\n",
    "rf.fit(X_train, y_train);"
   ]
  },
  {
   "cell_type": "code",
   "execution_count": null,
   "metadata": {},
   "outputs": [],
   "source": [
    "# Usa el método de predicción del bosque en los datos de pruebaa\n",
    "predictions = rf.predict(X_test)\n",
    "# Calcula los errores absolutos\n",
    "errors = abs(predictions - y_test)\n",
    "# Print out the mean absolute error (mae)\n",
    "print('Mean Absolute Error:', round(np.mean(errors), 2), 'degrees.')\n",
    "print('Accuracy: ', 1- round(np.mean(errors), 2))"
   ]
  },
  {
   "cell_type": "code",
   "execution_count": null,
   "metadata": {},
   "outputs": [],
   "source": [
    "import numpy as np\n",
    "import pandas as pd\n",
    "k = 50000\n",
    "X100 = np.load(\"matrizVectores50.npy\")\n",
    "Y4 = pd.read_csv(\"Etiqueta_K4.txt\", delimiter=\",\", header=None)\n",
    "Y4 = Y4.values.tolist()\n",
    "X100 = X100[:k]\n",
    "Y4 = Y4[:k]\n",
    "from sklearn.model_selection import train_test_split\n",
    "X_train_50_10, X_test_50_10, y_train_50_10, y_test_50_10 = train_test_split(X100, Y4, test_size=0.2, random_state=42)\n",
    "from sklearn.preprocessing import StandardScaler\n",
    "scaler_50_10 = StandardScaler().fit(X_train_50_10)\n",
    "X_train_50_10 = scaler_50_10.transform(X_train_50_10)\n",
    "X_test_50_10 = scaler_50_10.transform(X_test_50_10)"
   ]
  },
  {
   "cell_type": "code",
   "execution_count": null,
   "metadata": {
    "scrolled": true
   },
   "outputs": [],
   "source": [
    "from sklearn.model_selection import GridSearchCV\n",
    "from sklearn.svm import SVC\n",
    "param_grid = {'C': [1, 10, 100, 1000], #c=10 y gamma = 0.001\n",
    "              'gamma': [0.0001, 0.001, 0.01, 0.1], }\n",
    "clf = GridSearchCV(SVC(kernel='rbf', class_weight='balanced'), param_grid)\n",
    "\n",
    "clf_50_10 = clf.fit(X_train_50_10, y_train_50_10)"
   ]
  },
  {
   "cell_type": "code",
   "execution_count": null,
   "metadata": {},
   "outputs": [],
   "source": [
    "y_pred_50_10=clf_50_10.predict(X_test_50_10)\n",
    "from sklearn.metrics import accuracy_score\n",
    "accuracy_score(y_test_50_10,y_pred_50_10)"
   ]
  }
 ],
 "metadata": {
  "kernelspec": {
   "display_name": "Python 3",
   "language": "python",
   "name": "python3"
  },
  "language_info": {
   "codemirror_mode": {
    "name": "ipython",
    "version": 3
   },
   "file_extension": ".py",
   "mimetype": "text/x-python",
   "name": "python",
   "nbconvert_exporter": "python",
   "pygments_lexer": "ipython3",
   "version": "3.6.4"
  }
 },
 "nbformat": 4,
 "nbformat_minor": 2
}
