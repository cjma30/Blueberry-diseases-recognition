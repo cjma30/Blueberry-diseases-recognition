{
 "cells": [
  {
   "cell_type": "code",
   "execution_count": 52,
   "metadata": {
    "scrolled": true
   },
   "outputs": [
    {
     "data": {
      "text/plain": [
       "344"
      ]
     },
     "execution_count": 52,
     "metadata": {},
     "output_type": "execute_result"
    }
   ],
   "source": [
    "import cv2\n",
    "import os\n",
    "import numpy as np\n",
    "\n",
    "\n",
    "from skimage.feature import hog\n",
    "from skimage import data, exposure\n",
    "import matplotlib.image as mpimg\n",
    "\n",
    "dirpath = \"C:/Users/Carlos/Documents/esan/2018-1/Inteligencia Artificial Avanzada/Trabajo Final/iaa/Dataset_Arandanos/Hojas enfermas/\"\n",
    "Vectores_caract_LBP = [] #nuevo\n",
    "carpeta = (os.listdir(dirpath))\n",
    "n = 3\n",
    "\n",
    "ext = \".jpg\"\n",
    "\n",
    "for file in carpeta: \n",
    "    image = mpimg.imread(dirpath + file) # imagenes en color\n",
    "    image_EG = cv2.cvtColor(image,cv2.COLOR_BGR2GRAY) #Se pasa a blanco y negro\n",
    "    image_EG2 = cv2.medianBlur(image_EG, n) # Se realizar un  filtro de ruido usando la media para que todas las imagenes entren sin ruido\n",
    "    image_EG3 = cv2.addWeighted(image_EG, 1.5, image_EG2, -0.5, 0, image_EG) # realzamos detalles\n",
    "    image_EG4 = cv2.resize(image_EG3, (200, 200))# se aplica un rescalado a todas la imagenes para que entren con un tam\n",
    "    nombre = file[:file.find(ext)]\n",
    "    lbp = ft.local_binary_pattern(image_EG4, lbp_sampling_points, lbp_sampling_radius, method=\"uniform\")\n",
    "    (hist, _) = np.histogram(lbp.ravel(), bins=np.arange(0, lbp_sampling_points + 3), range=(0, lbp_sampling_points + 2))\n",
    "    # normalizar el histograma\n",
    "    hist = hist.astype(\"float\")\n",
    "    eps=1e-7\n",
    "    hist /= (hist.sum() + eps)\n",
    "    Vectores_caract_LBP.append(hist)\n",
    "\n",
    "len(Vectores_caract_LBP)"
   ]
  },
  {
   "cell_type": "code",
   "execution_count": 53,
   "metadata": {},
   "outputs": [
    {
     "data": {
      "text/plain": [
       "261"
      ]
     },
     "execution_count": 53,
     "metadata": {},
     "output_type": "execute_result"
    }
   ],
   "source": [
    "import cv2\n",
    "import os\n",
    "import numpy as np\n",
    "\n",
    "\n",
    "from skimage.feature import hog\n",
    "from skimage import data, exposure\n",
    "import matplotlib.image as mpimg\n",
    "\n",
    "dirpath = \"C:/Users/Carlos/Documents/esan/2018-1/Inteligencia Artificial Avanzada/Trabajo Final/iaa/Dataset_Arandanos/Hojas sanas/\"\n",
    "Vectores_caract_LBP2 = [] #nuevo\n",
    "carpeta = (os.listdir(dirpath))\n",
    "n = 3\n",
    "\n",
    "ext = \".jpg\"\n",
    "\n",
    "for file in carpeta: \n",
    "    image = mpimg.imread(dirpath + file) # imagenes en color\n",
    "    image_EG = cv2.cvtColor(image,cv2.COLOR_BGR2GRAY) #Se pasa a blanco y negro\n",
    "    image_EG2 = cv2.medianBlur(image_EG, n) # Se realizar un  filtro de ruido usando la media para que todas las imagenes entren sin ruido\n",
    "    image_EG3 = cv2.addWeighted(image_EG, 1.5, image_EG2, -0.5, 0, image_EG) # realzamos detalles\n",
    "    image_EG4 = cv2.resize(image_EG3, (200, 200))# se aplica un rescalado a todas la imagenes para que entren con un tam\n",
    "    nombre = file[:file.find(ext)]\n",
    "    lbp = ft.local_binary_pattern(image_EG4, lbp_sampling_points, lbp_sampling_radius, method=\"uniform\")\n",
    "    (hist, _) = np.histogram(lbp.ravel(), bins=np.arange(0, lbp_sampling_points + 3), range=(0, lbp_sampling_points + 2))\n",
    "    # normalizar el histograma\n",
    "    hist = hist.astype(\"float\")\n",
    "    eps=1e-7\n",
    "    hist /= (hist.sum() + eps)\n",
    "    Vectores_caract_LBP2.append(hist)\n",
    "\n",
    "len(Vectores_caract_LBP2)"
   ]
  },
  {
   "cell_type": "code",
   "execution_count": 54,
   "metadata": {},
   "outputs": [],
   "source": [
    "Vectores_caract_LBP2.extend(Vectores_caract_LBP)\n",
    "X = np.array(Vectores_caract_LBP2)\n",
    "\n",
    "valores = np.array([[1],[0]])\n",
    "Y = np.repeat(valores, [344,261])"
   ]
  },
  {
   "cell_type": "code",
   "execution_count": 55,
   "metadata": {},
   "outputs": [],
   "source": [
    "from sklearn.model_selection import train_test_split\n",
    "X_train, X_test, y_train, y_test = train_test_split(X,Y, test_size=0.20, random_state=42)"
   ]
  },
  {
   "cell_type": "code",
   "execution_count": 56,
   "metadata": {},
   "outputs": [],
   "source": [
    "# Import `StandardScaler` from `sklearn.preprocessing`\n",
    "from sklearn.preprocessing import StandardScaler\n",
    "\n",
    "# Define the scaler \n",
    "scaler = StandardScaler().fit(X_train)\n",
    "\n",
    "# Scale the train set\n",
    "X_train = scaler.transform(X_train)\n",
    "\n",
    "# Scale the test set\n",
    "X_test = scaler.transform(X_test)"
   ]
  },
  {
   "cell_type": "markdown",
   "metadata": {},
   "source": [
    "SVM\n"
   ]
  },
  {
   "cell_type": "code",
   "execution_count": 57,
   "metadata": {},
   "outputs": [],
   "source": [
    "from sklearn.svm import SVC\n",
    "from sklearn.model_selection import GridSearchCV\n",
    "param_grid = {'C': [1e3, 5e3, 1e4, 5e4, 1e5],\n",
    "              'gamma': [0.0001, 0.0005, 0.001, 0.005, 0.01, 0.1], }\n",
    "clf = GridSearchCV(SVC(kernel='rbf', class_weight='balanced'), param_grid)\n",
    "clf = clf.fit(X_train, y_train)"
   ]
  },
  {
   "cell_type": "code",
   "execution_count": 58,
   "metadata": {},
   "outputs": [],
   "source": [
    "y_pred=clf.predict(X_test)"
   ]
  },
  {
   "cell_type": "code",
   "execution_count": 59,
   "metadata": {},
   "outputs": [
    {
     "data": {
      "text/plain": [
       "0.7024793388429752"
      ]
     },
     "execution_count": 59,
     "metadata": {},
     "output_type": "execute_result"
    }
   ],
   "source": [
    "from sklearn.metrics import accuracy_score\n",
    "accuracy_score(y_test,y_pred)"
   ]
  },
  {
   "cell_type": "markdown",
   "metadata": {},
   "source": [
    "REDES NEURONALES\n"
   ]
  },
  {
   "cell_type": "code",
   "execution_count": 60,
   "metadata": {},
   "outputs": [
    {
     "data": {
      "text/plain": [
       "MLPClassifier(activation='relu', alpha=1e-05, batch_size='auto', beta_1=0.9,\n",
       "       beta_2=0.999, early_stopping=False, epsilon=1e-08,\n",
       "       hidden_layer_sizes=(15,), learning_rate='constant',\n",
       "       learning_rate_init=0.001, max_iter=200, momentum=0.9,\n",
       "       nesterovs_momentum=True, power_t=0.5, random_state=1, shuffle=True,\n",
       "       solver='lbfgs', tol=0.0001, validation_fraction=0.1, verbose=False,\n",
       "       warm_start=False)"
      ]
     },
     "execution_count": 60,
     "metadata": {},
     "output_type": "execute_result"
    }
   ],
   "source": [
    "from sklearn.neural_network import MLPClassifier\n",
    "clf = MLPClassifier(solver='lbfgs', alpha=1e-5, hidden_layer_sizes=(15,), random_state=1)\n",
    "\n",
    "clf.fit(X_train, y_train) "
   ]
  },
  {
   "cell_type": "code",
   "execution_count": 61,
   "metadata": {},
   "outputs": [],
   "source": [
    "y_pred=clf.predict(X_test)"
   ]
  },
  {
   "cell_type": "code",
   "execution_count": 62,
   "metadata": {},
   "outputs": [
    {
     "data": {
      "text/plain": [
       "0.6776859504132231"
      ]
     },
     "execution_count": 62,
     "metadata": {},
     "output_type": "execute_result"
    }
   ],
   "source": [
    "from sklearn.metrics import accuracy_score\n",
    "accuracy_score(y_test,y_pred)"
   ]
  },
  {
   "cell_type": "markdown",
   "metadata": {},
   "source": [
    "RANDOM FOREST"
   ]
  },
  {
   "cell_type": "code",
   "execution_count": 63,
   "metadata": {},
   "outputs": [],
   "source": [
    "from sklearn.ensemble import RandomForestRegressor\n",
    "# Crear una instancia del modelo con 1000 árboles de decisión\n",
    "rf = RandomForestRegressor(n_estimators = 1000, random_state = 42)\n",
    "# Entrenar al modelo en los datos de entrenamiento\n",
    "rf.fit(X_train, y_train);"
   ]
  },
  {
   "cell_type": "code",
   "execution_count": 64,
   "metadata": {},
   "outputs": [
    {
     "name": "stdout",
     "output_type": "stream",
     "text": [
      "Mean Absolute Error: 0.34 degrees.\n",
      "Accuracy:  0.6599999999999999\n"
     ]
    }
   ],
   "source": [
    "# Usa el método de predicción del bosque en los datos de pruebaa\n",
    "predictions = rf.predict(X_test)\n",
    "# Calcula los errores absolutos\n",
    "errors = abs(predictions - y_test)\n",
    "# Print out the mean absolute error (mae)\n",
    "print('Mean Absolute Error:', round(np.mean(errors), 2), 'degrees.')\n",
    "print('Accuracy: ', 1- round(np.mean(errors), 2))"
   ]
  }
 ],
 "metadata": {
  "kernelspec": {
   "display_name": "Python 3",
   "language": "python",
   "name": "python3"
  },
  "language_info": {
   "codemirror_mode": {
    "name": "ipython",
    "version": 3
   },
   "file_extension": ".py",
   "mimetype": "text/x-python",
   "name": "python",
   "nbconvert_exporter": "python",
   "pygments_lexer": "ipython3",
   "version": "3.6.4"
  }
 },
 "nbformat": 4,
 "nbformat_minor": 2
}
